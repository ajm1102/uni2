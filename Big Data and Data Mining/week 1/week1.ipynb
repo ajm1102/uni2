{
 "cells": [
  {
   "cell_type": "code",
   "execution_count": null,
   "id": "7469245f",
   "metadata": {},
   "outputs": [],
   "source": [
    "import pandas as pd\n",
    "import datetime\n",
    "\n",
    "df_accidents = pd.read_csv('dft-road-casualty-statistics-accident-2019.csv', low_memory=False)\n",
    "df_casualty = pd.read_csv('dft-road-casualty-statistics-casualty-2019.csv', low_memory=False)\n",
    "df_vehicle = pd.read_csv('dft-road-casualty-statistics-vehicle-2019.csv', low_memory=False)\n",
    "\n",
    "df_accidents['time'] = pd.to_datetime(df_accidents['time'], infer_datetime_format=True)\n",
    "df_accidents['time'] = df_accidents['time'].dt.time\n",
    "\n",
    "df_accidents['date'] = pd.to_datetime(df_accidents['date'], infer_datetime_format=True)\n",
    "df_accidents['date'] = df_accidents['date'].dt.date\n",
    "\n",
    "df_accidents.sort_value(df_accidents['date'])\n",
    "\n"
   ]
  },
  {
   "cell_type": "code",
   "execution_count": 8,
   "id": "ebd9da42",
   "metadata": {},
   "outputs": [
    {
     "data": {
      "text/plain": [
       "0         2019-02-18\n",
       "1         2019-01-15\n",
       "2         2019-01-01\n",
       "3         2019-01-01\n",
       "4         2019-01-01\n",
       "             ...    \n",
       "117531    2019-05-18\n",
       "117532    2019-05-30\n",
       "117533    2019-06-21\n",
       "117534    2019-06-29\n",
       "117535    2019-04-21\n",
       "Name: date, Length: 117536, dtype: object"
      ]
     },
     "execution_count": 8,
     "metadata": {},
     "output_type": "execute_result"
    }
   ],
   "source": [
    "df_accidents['date']"
   ]
  },
  {
   "cell_type": "code",
   "execution_count": 10,
   "id": "6e4d845a",
   "metadata": {},
   "outputs": [
    {
     "data": {
      "text/plain": [
       "accident_index                        False\n",
       "accident_year                         False\n",
       "accident_reference                    False\n",
       "vehicle_reference                     False\n",
       "casualty_reference                    False\n",
       "casualty_class                        False\n",
       "sex_of_casualty                       False\n",
       "age_of_casualty                       False\n",
       "age_band_of_casualty                  False\n",
       "casualty_severity                     False\n",
       "pedestrian_location                   False\n",
       "pedestrian_movement                   False\n",
       "car_passenger                         False\n",
       "bus_or_coach_passenger                False\n",
       "pedestrian_road_maintenance_worker    False\n",
       "casualty_type                         False\n",
       "casualty_home_area_type               False\n",
       "casualty_imd_decile                   False\n",
       "dtype: bool"
      ]
     },
     "execution_count": 10,
     "metadata": {},
     "output_type": "execute_result"
    }
   ],
   "source": [
    "df_casualty.isna().any()"
   ]
  },
  {
   "cell_type": "code",
   "execution_count": 11,
   "id": "d1372910",
   "metadata": {},
   "outputs": [
    {
     "data": {
      "text/plain": [
       "accident_index                      False\n",
       "accident_year                       False\n",
       "accident_reference                  False\n",
       "vehicle_reference                   False\n",
       "vehicle_type                        False\n",
       "towing_and_articulation             False\n",
       "vehicle_manoeuvre                   False\n",
       "vehicle_direction_from              False\n",
       "vehicle_direction_to                False\n",
       "vehicle_location_restricted_lane    False\n",
       "junction_location                   False\n",
       "skidding_and_overturning            False\n",
       "hit_object_in_carriageway           False\n",
       "vehicle_leaving_carriageway         False\n",
       "hit_object_off_carriageway          False\n",
       "first_point_of_impact               False\n",
       "vehicle_left_hand_drive             False\n",
       "journey_purpose_of_driver           False\n",
       "sex_of_driver                       False\n",
       "age_of_driver                       False\n",
       "age_band_of_driver                  False\n",
       "engine_capacity_cc                  False\n",
       "propulsion_code                     False\n",
       "age_of_vehicle                      False\n",
       "generic_make_model                  False\n",
       "driver_imd_decile                   False\n",
       "driver_home_area_type               False\n",
       "dtype: bool"
      ]
     },
     "execution_count": 11,
     "metadata": {},
     "output_type": "execute_result"
    }
   ],
   "source": [
    "df_vehicle.isna().any()"
   ]
  },
  {
   "cell_type": "code",
   "execution_count": 37,
   "id": "685615fd",
   "metadata": {},
   "outputs": [
    {
     "data": {
      "text/plain": [
       "0         17:50:00\n",
       "1         21:45:00\n",
       "2         01:50:00\n",
       "3         01:20:00\n",
       "4         00:40:00\n",
       "            ...   \n",
       "117531    01:00:00\n",
       "117532    08:46:00\n",
       "117533    15:30:00\n",
       "117534    14:10:00\n",
       "117535    12:45:00\n",
       "Name: time, Length: 117536, dtype: object"
      ]
     },
     "execution_count": 37,
     "metadata": {},
     "output_type": "execute_result"
    }
   ],
   "source": [
    "df_accidents['time'][date:date2]"
   ]
  },
  {
   "cell_type": "code",
   "execution_count": null,
   "id": "8ad82bc1",
   "metadata": {},
   "outputs": [],
   "source": [
    "df_accidents['time']"
   ]
  },
  {
   "cell_type": "code",
   "execution_count": 42,
   "id": "8fe2605e",
   "metadata": {},
   "outputs": [],
   "source": [
    "x = datetime.datetime.now()"
   ]
  },
  {
   "cell_type": "code",
   "execution_count": 50,
   "id": "d824bcfa",
   "metadata": {},
   "outputs": [
    {
     "data": {
      "text/plain": [
       "datetime.date(2023, 1, 31)"
      ]
     },
     "execution_count": 50,
     "metadata": {},
     "output_type": "execute_result"
    }
   ],
   "source": [
    "x.date()"
   ]
  },
  {
   "cell_type": "code",
   "execution_count": 51,
   "id": "2573f5d0",
   "metadata": {},
   "outputs": [
    {
     "data": {
      "text/plain": [
       "datetime.datetime(2023, 2, 10, 11, 49, 26, 467407)"
      ]
     },
     "execution_count": 51,
     "metadata": {},
     "output_type": "execute_result"
    }
   ],
   "source": [
    "x + datetime.timedelta(days=10)"
   ]
  },
  {
   "cell_type": "code",
   "execution_count": 53,
   "id": "ea28fea9",
   "metadata": {},
   "outputs": [
    {
     "data": {
      "text/plain": [
       "04/12/2019    495\n",
       "29/11/2019    477\n",
       "20/09/2019    466\n",
       "08/11/2019    448\n",
       "20/12/2019    448\n",
       "             ... \n",
       "13/01/2019    176\n",
       "28/12/2019    174\n",
       "29/12/2019    163\n",
       "25/12/2019    138\n",
       "26/12/2019    137\n",
       "Name: date, Length: 365, dtype: int64"
      ]
     },
     "execution_count": 53,
     "metadata": {},
     "output_type": "execute_result"
    }
   ],
   "source": [
    "df_accidents['date'].value_counts()"
   ]
  },
  {
   "cell_type": "code",
   "execution_count": null,
   "id": "427a5285",
   "metadata": {},
   "outputs": [],
   "source": []
  }
 ],
 "metadata": {
  "kernelspec": {
   "display_name": "Python 3 (ipykernel)",
   "language": "python",
   "name": "python3"
  },
  "language_info": {
   "codemirror_mode": {
    "name": "ipython",
    "version": 3
   },
   "file_extension": ".py",
   "mimetype": "text/x-python",
   "name": "python",
   "nbconvert_exporter": "python",
   "pygments_lexer": "ipython3",
   "version": "3.10.6"
  }
 },
 "nbformat": 4,
 "nbformat_minor": 5
}
